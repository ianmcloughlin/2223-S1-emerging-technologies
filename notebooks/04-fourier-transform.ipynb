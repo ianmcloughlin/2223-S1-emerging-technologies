{
 "cells": [
  {
   "cell_type": "markdown",
   "id": "99f62990",
   "metadata": {},
   "source": [
    "# Fast Fourier Transform\n",
    "\n",
    "***"
   ]
  },
  {
   "cell_type": "markdown",
   "id": "0f930eb2",
   "metadata": {},
   "source": [
    "## Complex Numbers\n",
    "\n",
    "***"
   ]
  },
  {
   "cell_type": "code",
   "execution_count": 1,
   "id": "8d1f205e",
   "metadata": {
    "scrolled": true
   },
   "outputs": [
    {
     "data": {
      "text/plain": [
       "(3, 7)"
      ]
     },
     "execution_count": 1,
     "metadata": {},
     "output_type": "execute_result"
    }
   ],
   "source": [
    "# A tuple of length 2.\n",
    "x = (3, 7)\n",
    "x"
   ]
  },
  {
   "cell_type": "code",
   "execution_count": 2,
   "id": "8bd09108",
   "metadata": {},
   "outputs": [
    {
     "data": {
      "text/plain": [
       "(-2, 5)"
      ]
     },
     "execution_count": 2,
     "metadata": {},
     "output_type": "execute_result"
    }
   ],
   "source": [
    "# A tuple of length 2.\n",
    "y = (-2, 5)\n",
    "y"
   ]
  },
  {
   "cell_type": "code",
   "execution_count": 3,
   "id": "caa8c14a",
   "metadata": {},
   "outputs": [],
   "source": [
    "# Addition.\n",
    "def add(x, y):\n",
    "    return (x[0] + y[0], x[1]+ y[1])"
   ]
  },
  {
   "cell_type": "code",
   "execution_count": 4,
   "id": "40f0cd3c",
   "metadata": {},
   "outputs": [
    {
     "data": {
      "text/plain": [
       "(1, 12)"
      ]
     },
     "execution_count": 4,
     "metadata": {},
     "output_type": "execute_result"
    }
   ],
   "source": [
    "add(x, y)"
   ]
  },
  {
   "cell_type": "code",
   "execution_count": 5,
   "id": "1ded2140",
   "metadata": {},
   "outputs": [],
   "source": [
    "# Multiplication.\n",
    "def mul(x, y):\n",
    "    a, b = x\n",
    "    c, d = y\n",
    "    return (a * c - b * d, a * d + b * c)"
   ]
  },
  {
   "cell_type": "code",
   "execution_count": 6,
   "id": "99c34924",
   "metadata": {},
   "outputs": [
    {
     "data": {
      "text/plain": [
       "(-41, 1)"
      ]
     },
     "execution_count": 6,
     "metadata": {},
     "output_type": "execute_result"
    }
   ],
   "source": [
    "mul(x, y)"
   ]
  },
  {
   "cell_type": "code",
   "execution_count": 7,
   "id": "7ef50380",
   "metadata": {},
   "outputs": [
    {
     "data": {
      "text/plain": [
       "complex"
      ]
     },
     "execution_count": 7,
     "metadata": {},
     "output_type": "execute_result"
    }
   ],
   "source": [
    "# Built-in type in Python.\n",
    "complex"
   ]
  },
  {
   "cell_type": "code",
   "execution_count": 8,
   "id": "f5ca1ce2",
   "metadata": {},
   "outputs": [
    {
     "data": {
      "text/plain": [
       "(1+12j)"
      ]
     },
     "execution_count": 8,
     "metadata": {},
     "output_type": "execute_result"
    }
   ],
   "source": [
    "# Addition using +.\n",
    "(3 + 7j) + (-2 + 5j)"
   ]
  },
  {
   "cell_type": "code",
   "execution_count": 9,
   "id": "1456e0ed",
   "metadata": {},
   "outputs": [
    {
     "data": {
      "text/plain": [
       "(-41+1j)"
      ]
     },
     "execution_count": 9,
     "metadata": {},
     "output_type": "execute_result"
    }
   ],
   "source": [
    "# Multiplication using *.\n",
    "(3 + 7j) * (-2 + 5j)"
   ]
  },
  {
   "cell_type": "code",
   "execution_count": 10,
   "id": "864b21b8",
   "metadata": {},
   "outputs": [
    {
     "data": {
      "text/plain": [
       "1j"
      ]
     },
     "execution_count": 10,
     "metadata": {},
     "output_type": "execute_result"
    }
   ],
   "source": [
    "# Can't just write j for a literal.\n",
    "1j"
   ]
  },
  {
   "cell_type": "code",
   "execution_count": 11,
   "id": "579603cd",
   "metadata": {},
   "outputs": [],
   "source": [
    "# In Object Oriented form.\n",
    "class Complex():\n",
    "    def __init__(self, a, b):\n",
    "        self.a = a\n",
    "        self.b = b\n",
    "    \n",
    "    def __add__(self, other):\n",
    "        return Complex(self.a + other.a, self.b + other.b)\n",
    "    \n",
    "    def __mul__(self, other):\n",
    "        a, b = self.a, self.b\n",
    "        c, d = other.a, other.b\n",
    "        return Complex(a*c - b*d, a*d + b*c)\n",
    "    \n",
    "    def __repr__(self):\n",
    "        return f'Complex({self.a}, {self.b})'"
   ]
  },
  {
   "cell_type": "code",
   "execution_count": 12,
   "id": "63672255",
   "metadata": {},
   "outputs": [
    {
     "data": {
      "text/plain": [
       "Complex(3, 7)"
      ]
     },
     "execution_count": 12,
     "metadata": {},
     "output_type": "execute_result"
    }
   ],
   "source": [
    "# Instance.\n",
    "Complex(3, 7)"
   ]
  },
  {
   "cell_type": "code",
   "execution_count": 13,
   "id": "9b0263a4",
   "metadata": {},
   "outputs": [
    {
     "data": {
      "text/plain": [
       "Complex(-2, 5)"
      ]
     },
     "execution_count": 13,
     "metadata": {},
     "output_type": "execute_result"
    }
   ],
   "source": [
    "# Another instance.\n",
    "Complex(-2, 5)"
   ]
  },
  {
   "cell_type": "code",
   "execution_count": 14,
   "id": "9ea1444f",
   "metadata": {},
   "outputs": [
    {
     "data": {
      "text/plain": [
       "Complex(1, 12)"
      ]
     },
     "execution_count": 14,
     "metadata": {},
     "output_type": "execute_result"
    }
   ],
   "source": [
    "# Overloading +.\n",
    "Complex(3, 7) + Complex(-2, 5)"
   ]
  },
  {
   "cell_type": "code",
   "execution_count": 15,
   "id": "3c759f80",
   "metadata": {},
   "outputs": [
    {
     "data": {
      "text/plain": [
       "Complex(-41, 1)"
      ]
     },
     "execution_count": 15,
     "metadata": {},
     "output_type": "execute_result"
    }
   ],
   "source": [
    "# Overloading *.\n",
    "Complex(3, 7) * Complex(-2, 5)"
   ]
  },
  {
   "cell_type": "code",
   "execution_count": 16,
   "id": "e8c33b53",
   "metadata": {},
   "outputs": [],
   "source": [
    "# Instances.\n",
    "x = Complex(3, 7)\n",
    "y = Complex(-2, 5)"
   ]
  },
  {
   "cell_type": "code",
   "execution_count": 17,
   "id": "d2c4175b",
   "metadata": {},
   "outputs": [
    {
     "data": {
      "text/plain": [
       "Complex(1, 12)"
      ]
     },
     "execution_count": 17,
     "metadata": {},
     "output_type": "execute_result"
    }
   ],
   "source": [
    "x + y"
   ]
  },
  {
   "cell_type": "code",
   "execution_count": 18,
   "id": "7c51d0f3",
   "metadata": {},
   "outputs": [
    {
     "data": {
      "text/plain": [
       "Complex(-41, 1)"
      ]
     },
     "execution_count": 18,
     "metadata": {},
     "output_type": "execute_result"
    }
   ],
   "source": [
    "x * y"
   ]
  },
  {
   "cell_type": "markdown",
   "id": "8aa6ef18",
   "metadata": {},
   "source": [
    "## Plots of Parabolas\n",
    "\n",
    "***"
   ]
  },
  {
   "cell_type": "code",
   "execution_count": 19,
   "id": "d5a14773",
   "metadata": {},
   "outputs": [],
   "source": [
    "# Plots.\n",
    "import matplotlib.pyplot as plt\n",
    "\n",
    "# Numerical arrays.\n",
    "import numpy as np"
   ]
  },
  {
   "cell_type": "code",
   "execution_count": 20,
   "id": "cb006de0",
   "metadata": {},
   "outputs": [
    {
     "data": {
      "image/png": "[encoded data removed]",
      "text/plain": [
       "<Figure size 1000x600 with 1 Axes>"
      ]
     },
     "metadata": {},
     "output_type": "display_data"
    }
   ],
   "source": [
    "# Range of x values.\n",
    "x = np.linspace(-6.0, 6.0, 1000)\n",
    "\n",
    "# Create figure.\n",
    "fig, ax = plt.subplots(figsize=(10,6))\n",
    "\n",
    "# Plot.\n",
    "ax.plot(x, x**2)\n",
    "\n",
    "# Plot x axis.\n",
    "ax.axhline(0.0, color='grey');"
   ]
  },
  {
   "cell_type": "code",
   "execution_count": 21,
   "id": "cc6b16f4",
   "metadata": {},
   "outputs": [
    {
     "data": {
      "image/png": "[encoded data removed]",
      "text/plain": [
       "<Figure size 1000x600 with 1 Axes>"
      ]
     },
     "metadata": {},
     "output_type": "display_data"
    }
   ],
   "source": [
    "# Range of x values.\n",
    "x = np.linspace(-6.0, 6.0, 1000)\n",
    "\n",
    "# Create figure.\n",
    "fig, ax = plt.subplots(figsize=(10,6))\n",
    "\n",
    "# Plot.\n",
    "ax.plot(x, x**2 - 4)\n",
    "\n",
    "# Plot x axis.\n",
    "ax.axhline(0.0, color='grey');"
   ]
  },
  {
   "cell_type": "code",
   "execution_count": 22,
   "id": "a86009e1",
   "metadata": {},
   "outputs": [
    {
     "data": {
      "image/png": "[encoded data removed]",
      "text/plain": [
       "<Figure size 1000x600 with 1 Axes>"
      ]
     },
     "metadata": {},
     "output_type": "display_data"
    }
   ],
   "source": [
    "# Range of x values.\n",
    "x = np.linspace(-6.0, 6.0, 1000)\n",
    "\n",
    "# Create figure.\n",
    "fig, ax = plt.subplots(figsize=(10,6))\n",
    "\n",
    "# Plot.\n",
    "ax.plot(x, x**2 + 4)\n",
    "\n",
    "# Plot x axis.\n",
    "ax.axhline(0.0, color='grey');"
   ]
  },
  {
   "cell_type": "code",
   "execution_count": 23,
   "id": "99eff3b9",
   "metadata": {
    "scrolled": false
   },
   "outputs": [
    {
     "data": {
      "image/png": "[encoded data removed]",
      "text/plain": [
       "<Figure size 1000x600 with 1 Axes>"
      ]
     },
     "metadata": {},
     "output_type": "display_data"
    }
   ],
   "source": [
    "# Range of x values.\n",
    "x = np.linspace(-6.0, 6.0, 1000)\n",
    "\n",
    "# Create figure.\n",
    "fig, ax = plt.subplots(figsize=(10,6))\n",
    "\n",
    "# Plot.\n",
    "ax.plot(x, -x**2 + 4)\n",
    "\n",
    "# Plot x axis.\n",
    "ax.axhline(0.0, color='grey');"
   ]
  },
  {
   "cell_type": "markdown",
   "id": "8c0585bd",
   "metadata": {},
   "source": [
    "## Quadratic Formula\n",
    "\n",
    "***\n",
    "\n",
    "$ f(x) = a x^2 + b x + c $\n",
    "\n",
    "$ f(x) = 0 \\Rightarrow x = \\frac{-b \\pm \\sqrt{b^2 - 4ac}}{2a}$"
   ]
  },
  {
   "cell_type": "code",
   "execution_count": 24,
   "id": "540a6a2a",
   "metadata": {},
   "outputs": [],
   "source": [
    "def formula(a, b, c):\n",
    "    undersqrt = (b**2 - 4 * a * c)**0.5\n",
    "    return [(-b - undersqrt) / (2 * a), (-b + undersqrt) / (2 * a)]"
   ]
  },
  {
   "cell_type": "code",
   "execution_count": 25,
   "id": "dc263f9f",
   "metadata": {},
   "outputs": [
    {
     "data": {
      "text/plain": [
       "[0.0, 0.0]"
      ]
     },
     "execution_count": 25,
     "metadata": {},
     "output_type": "execute_result"
    }
   ],
   "source": [
    "# y = x^2\n",
    "formula(1, 0, 0)"
   ]
  },
  {
   "cell_type": "code",
   "execution_count": 26,
   "id": "63033a6a",
   "metadata": {},
   "outputs": [
    {
     "data": {
      "text/plain": [
       "[-2.0, 2.0]"
      ]
     },
     "execution_count": 26,
     "metadata": {},
     "output_type": "execute_result"
    }
   ],
   "source": [
    "# y = x^2 - 4\n",
    "formula(1, 0, -4)"
   ]
  },
  {
   "cell_type": "code",
   "execution_count": 27,
   "id": "dfbb5875",
   "metadata": {},
   "outputs": [
    {
     "data": {
      "text/plain": [
       "[(-1.2246467991473532e-16-2j), (1.2246467991473532e-16+2j)]"
      ]
     },
     "execution_count": 27,
     "metadata": {},
     "output_type": "execute_result"
    }
   ],
   "source": [
    "# y = x^2 + 4\n",
    "formula(1, 0, 4)"
   ]
  },
  {
   "cell_type": "code",
   "execution_count": 28,
   "id": "a30c8f63",
   "metadata": {},
   "outputs": [
    {
     "name": "stdout",
     "output_type": "stream",
     "text": [
      "-0.0-2.0j, 0.0+2.0j\n"
     ]
    }
   ],
   "source": [
    "# F strings.\n",
    "x_0, x_1 = formula(1, 0, 4)\n",
    "print(f'{x_0:.1f}, {x_1:.1f}')"
   ]
  },
  {
   "cell_type": "markdown",
   "id": "a84c97d5",
   "metadata": {},
   "source": [
    "## Fourier Transform\n",
    "\n",
    "***\n",
    "\n",
    "https://docs.scipy.org/doc/scipy/tutorial/fft.html#d-discrete-fourier-transforms:"
   ]
  },
  {
   "cell_type": "code",
   "execution_count": 29,
   "id": "5e548929",
   "metadata": {},
   "outputs": [],
   "source": [
    "# Numerical arrays.\n",
    "import numpy as np\n",
    "\n",
    "# Fast Fourier transform.\n",
    "import scipy.fft as fft"
   ]
  },
  {
   "cell_type": "code",
   "execution_count": 30,
   "id": "73f7cc65",
   "metadata": {},
   "outputs": [
    {
     "data": {
      "text/plain": [
       "array([ 1. ,  2. ,  1. , -1. ,  1.5])"
      ]
     },
     "execution_count": 30,
     "metadata": {},
     "output_type": "execute_result"
    }
   ],
   "source": [
    "# Create a test array.\n",
    "x = np.array([1.0, 2.0, 1.0, -1.0, 1.5])\n",
    "x"
   ]
  },
  {
   "cell_type": "code",
   "execution_count": 31,
   "id": "fe2248ef",
   "metadata": {},
   "outputs": [
    {
     "data": {
      "text/plain": [
       "array([ 4.5       -0.j        ,  2.08155948-1.65109876j,\n",
       "       -1.83155948+1.60822041j, -1.83155948-1.60822041j,\n",
       "        2.08155948+1.65109876j])"
      ]
     },
     "execution_count": 31,
     "metadata": {},
     "output_type": "execute_result"
    }
   ],
   "source": [
    "# Apply the fast Fourier transform to x.\n",
    "y = fft.fft(x)\n",
    "y"
   ]
  },
  {
   "cell_type": "markdown",
   "id": "11d95f73",
   "metadata": {},
   "source": [
    "**Expected output**:\n",
    "\n",
    "```\n",
    "array([ 4.5       +0.j        ,  2.08155948-1.65109876j,\n",
    "       -1.83155948+1.60822041j, -1.83155948-1.60822041j,\n",
    "        2.08155948+1.65109876j])\n",
    "```"
   ]
  },
  {
   "cell_type": "markdown",
   "id": "88f232e2",
   "metadata": {},
   "source": [
    "## Inverse Fourier Transform\n",
    "\n",
    "***"
   ]
  },
  {
   "cell_type": "code",
   "execution_count": 32,
   "id": "972357c8",
   "metadata": {},
   "outputs": [
    {
     "data": {
      "text/plain": [
       "array([ 1. +0.j,  2. +0.j,  1. +0.j, -1. +0.j,  1.5+0.j])"
      ]
     },
     "execution_count": 32,
     "metadata": {},
     "output_type": "execute_result"
    }
   ],
   "source": [
    "# Invert the previous Fourier transform applied to x.\n",
    "yinv = fft.ifft(y)\n",
    "yinv"
   ]
  },
  {
   "cell_type": "markdown",
   "id": "66750a09",
   "metadata": {},
   "source": [
    "**Expected output:**\n",
    "\n",
    "```\n",
    "array([ 1.0+0.j,  2.0+0.j,  1.0+0.j, -1.0+0.j,  1.5+0.j])\n",
    "```"
   ]
  },
  {
   "cell_type": "markdown",
   "id": "1eafc3be",
   "metadata": {},
   "source": [
    "We expect x and yinv to be equal."
   ]
  },
  {
   "cell_type": "code",
   "execution_count": 33,
   "id": "d17a07e3",
   "metadata": {},
   "outputs": [
    {
     "data": {
      "text/plain": [
       "array([False,  True,  True,  True,  True])"
      ]
     },
     "execution_count": 33,
     "metadata": {},
     "output_type": "execute_result"
    }
   ],
   "source": [
    "# Are x and yinv equal?\n",
    "x == yinv"
   ]
  },
  {
   "cell_type": "markdown",
   "id": "b92b568e",
   "metadata": {},
   "source": [
    "The first value seems suspicious."
   ]
  },
  {
   "cell_type": "code",
   "execution_count": 34,
   "id": "0d323ea6",
   "metadata": {},
   "outputs": [
    {
     "data": {
      "text/plain": [
       "1.0"
      ]
     },
     "execution_count": 34,
     "metadata": {},
     "output_type": "execute_result"
    }
   ],
   "source": [
    "x[0]"
   ]
  },
  {
   "cell_type": "code",
   "execution_count": 35,
   "id": "848b2504",
   "metadata": {},
   "outputs": [
    {
     "data": {
      "text/plain": [
       "(1.0000000000000002+0j)"
      ]
     },
     "execution_count": 35,
     "metadata": {},
     "output_type": "execute_result"
    }
   ],
   "source": [
    "yinv[0]"
   ]
  },
  {
   "cell_type": "code",
   "execution_count": 36,
   "id": "63c4d126",
   "metadata": {},
   "outputs": [
    {
     "data": {
      "text/plain": [
       "array([ True,  True,  True,  True,  True])"
      ]
     },
     "execution_count": 36,
     "metadata": {},
     "output_type": "execute_result"
    }
   ],
   "source": [
    "# Adapted from: https://stackoverflow.com/a/39758154\n",
    "np.isclose(x, yinv)"
   ]
  },
  {
   "cell_type": "markdown",
   "id": "d5636b68",
   "metadata": {},
   "source": [
    "## Formula\n",
    "\n",
    "***\n",
    "\n"
   ]
  },
  {
   "cell_type": "markdown",
   "id": "41856f8c",
   "metadata": {},
   "source": [
    "$$\n",
    "y[k] = \\sum_{n=0}^{N-1} e^{-2 \\pi j \\frac{kn}{N}} x[n]\n",
    "$$"
   ]
  },
  {
   "cell_type": "code",
   "execution_count": 37,
   "id": "be7e7a2a",
   "metadata": {},
   "outputs": [
    {
     "data": {
      "text/plain": [
       "array([ 4.5       +0.j        ,  2.08155948-1.65109876j,\n",
       "       -1.83155948+1.60822041j, -1.83155948-1.60822041j,\n",
       "        2.08155948+1.65109876j])"
      ]
     },
     "execution_count": 37,
     "metadata": {},
     "output_type": "execute_result"
    }
   ],
   "source": [
    "# Calculate by hand.\n",
    "\n",
    "# Output array.\n",
    "y = []\n",
    "\n",
    "N = len(x)\n",
    "\n",
    "for k in range(N):\n",
    "    y_k = 0.0\n",
    "    for n in range(N):\n",
    "        y_k = y_k + (np.e**(-2 * np.pi * 1j * k * n / N) * x[n])\n",
    "    y.append(y_k)\n",
    "    \n",
    "np.array(y)"
   ]
  },
  {
   "cell_type": "code",
   "execution_count": 38,
   "id": "a3062a6f",
   "metadata": {},
   "outputs": [
    {
     "data": {
      "text/plain": [
       "4.5"
      ]
     },
     "execution_count": 38,
     "metadata": {},
     "output_type": "execute_result"
    }
   ],
   "source": [
    "# First element of output is just sum of x.\n",
    "x.sum()"
   ]
  },
  {
   "cell_type": "code",
   "execution_count": 39,
   "id": "f85f3b44",
   "metadata": {},
   "outputs": [
    {
     "data": {
      "text/plain": [
       "(4.5+0j)"
      ]
     },
     "execution_count": 39,
     "metadata": {},
     "output_type": "execute_result"
    }
   ],
   "source": [
    "# From scipy.fft:\n",
    "y[0]"
   ]
  },
  {
   "cell_type": "code",
   "execution_count": 40,
   "id": "845e9192",
   "metadata": {},
   "outputs": [
    {
     "data": {
      "text/plain": [
       "3.141592653589793"
      ]
     },
     "execution_count": 40,
     "metadata": {},
     "output_type": "execute_result"
    }
   ],
   "source": [
    "# Pi.\n",
    "np.pi"
   ]
  },
  {
   "cell_type": "code",
   "execution_count": 41,
   "id": "8ef37425",
   "metadata": {},
   "outputs": [
    {
     "data": {
      "text/plain": [
       "2.718281828459045"
      ]
     },
     "execution_count": 41,
     "metadata": {},
     "output_type": "execute_result"
    }
   ],
   "source": [
    "# e\n",
    "np.e"
   ]
  },
  {
   "cell_type": "code",
   "execution_count": 42,
   "id": "0bd29515",
   "metadata": {},
   "outputs": [
    {
     "data": {
      "text/plain": [
       "1j"
      ]
     },
     "execution_count": 42,
     "metadata": {},
     "output_type": "execute_result"
    }
   ],
   "source": [
    "# j\n",
    "1j"
   ]
  },
  {
   "cell_type": "code",
   "execution_count": 43,
   "id": "f9ef3676",
   "metadata": {},
   "outputs": [
    {
     "data": {
      "text/plain": [
       "2.6568810651542054"
      ]
     },
     "execution_count": 43,
     "metadata": {},
     "output_type": "execute_result"
    }
   ],
   "source": [
    "# Absolute value/magnitude.\n",
    "abs(y[1])"
   ]
  },
  {
   "cell_type": "code",
   "execution_count": 44,
   "id": "92ab96b8",
   "metadata": {},
   "outputs": [
    {
     "data": {
      "text/plain": [
       "(2.656881065154206+2.5072022361544115e-16j)"
      ]
     },
     "execution_count": 44,
     "metadata": {},
     "output_type": "execute_result"
    }
   ],
   "source": [
    "# Symmetry.\n",
    "np.sqrt(y[1] * y[4])"
   ]
  },
  {
   "cell_type": "code",
   "execution_count": 45,
   "id": "81cac4d9",
   "metadata": {},
   "outputs": [
    {
     "data": {
      "text/plain": [
       "'2.66+0.00j'"
      ]
     },
     "execution_count": 45,
     "metadata": {},
     "output_type": "execute_result"
    }
   ],
   "source": [
    "# Symmetry.\n",
    "f'{np.sqrt(y[1] * y[4]):.2f}'"
   ]
  },
  {
   "cell_type": "code",
   "execution_count": 46,
   "id": "039f06c3",
   "metadata": {},
   "outputs": [
    {
     "data": {
      "text/plain": [
       "2.23606797749979"
      ]
     },
     "execution_count": 46,
     "metadata": {},
     "output_type": "execute_result"
    }
   ],
   "source": [
    "# Absolute value.\n",
    "abs(1+2j)"
   ]
  },
  {
   "cell_type": "markdown",
   "id": "0aa7d1e9",
   "metadata": {},
   "source": [
    "***\n",
    "\n",
    "### End"
   ]
  }
 ],
 "metadata": {
  "kernelspec": {
   "display_name": "Python 3 (ipykernel)",
   "language": "python",
   "name": "python3"
  },
  "language_info": {
   "codemirror_mode": {
    "name": "ipython",
    "version": 3
   },
   "file_extension": ".py",
   "mimetype": "text/x-python",
   "name": "python",
   "nbconvert_exporter": "python",
   "pygments_lexer": "ipython3",
   "version": "3.9.13"
  }
 },
 "nbformat": 4,
 "nbformat_minor": 5
}
