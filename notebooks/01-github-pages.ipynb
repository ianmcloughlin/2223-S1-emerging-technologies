{
 "cells": [
  {
   "cell_type": "markdown",
   "metadata": {},
   "source": [
    "<h1 style=\"color: rgb(0, 91, 94);\">GitHub Pages</h1>\n",
    "\n",
    "<hr style=\"border-top: 1px solid rgb(0, 91, 94);\" />\n",
    "\n",
    "\n",
    "In this notebook, you will learn about GitHub Pages. Once you get to the end you should be able to:\n",
    "\n",
    "1. Determine a use case for GitHub Pages.\n",
    "2. Deploy a static website using GitHub Pages.\n",
    "3. Use GitHub Actions to deploy a GitHub Pages site.\n",
    "4. Determine whether a technology depends on server interaction."
   ]
  },
  {
   "cell_type": "markdown",
   "metadata": {},
   "source": [
    "<h2 style=\"color: rgb(0, 91, 94);\">HTTP</h2>\n",
    "\n",
    "<hr style=\"border-top: 1px solid rgb(0, 91, 94);\" />\n",
    "\n",
    "- The <a href=\"https://developer.mozilla.org/en-US/docs/Web/HTTP\" style=\"color: #ff791e\">HyperText Transfer Protocol (HTTP)</a> follows a client-server model.\n",
    "\n",
    "- Clients send requests to servers and receive responses in return.\n",
    "\n",
    "- Request-response pairs are atomic: a new request needs to be sent for any follow up.\n",
    "\n",
    "- HTTP is designed to be stateless (see <a href=\"https://developer.mozilla.org/en-US/docs/Glossary/REST\" style=\"color: #ff791e\">REST</a>): the server should not retain any state between requests.\n",
    "\n",
    "- A distinction is made between state and sessions in HTTP, though it is somewhat confusing.\n",
    "\n",
    "<b stlye=\"color: #001a79;\">Q:</b> What is a server?"
   ]
  },
  {
   "cell_type": "markdown",
   "metadata": {},
   "source": [
    "<h4 style=\"color: rgb(0, 91, 94);\">Example Request</h4>\n",
    "\n",
    "\n",
    "<a href=\"https://developer.mozilla.org/en-US/docs/Web/HTTP/Session\" style=\"color: #ff791e\">https://developer.mozilla.org/en-US/docs/Web/HTTP/Session</a>\n",
    "\n",
    "<hr style=\"border-top: 1px solid rgb(0, 91, 94);\" />\n",
    "\n",
    "```http\n",
    "POST /contact_form.php HTTP/1.1\n",
    "Host: developer.mozilla.org\n",
    "Content-Length: 64\n",
    "Content-Type: application/x-www-form-urlencoded\n",
    "\n",
    "name=Joe%20User&request=Send%20me%20one%20of%20your%20catalogue\n",
    "```\n",
    "<hr style=\"border-top: 1px solid rgb(0, 91, 94);\" />\n"
   ]
  },
  {
   "cell_type": "markdown",
   "metadata": {},
   "source": [
    "<h4 style=\"color: rgb(0, 91, 94);\">Example Response</h4>\n",
    "\n",
    "\n",
    "<a href=\"https://developer.mozilla.org/en-US/docs/Web/HTTP/Session\" style=\"color: #ff791e\">https://developer.mozilla.org/en-US/docs/Web/HTTP/Session</a>\n",
    "\n",
    "<hr style=\"border-top: 1px solid rgb(0, 91, 94);\" />\n",
    "\n",
    "```http\n",
    "HTTP/1.1 200 OK\n",
    "Content-Type: text/html; charset=utf-8\n",
    "Content-Length: 55743\n",
    "Connection: keep-alive\n",
    "Cache-Control: s-maxage=300, public, max-age=0\n",
    "Content-Language: en-US\n",
    "Date: Thu, 06 Dec 2018 17:37:18 GMT\n",
    "ETag: \"2e77ad1dc6ab0b53a2996dfd4653c1c3\"\n",
    "Server: meinheld/0.6.1\n",
    "Strict-Transport-Security: max-age=63072000\n",
    "X-Content-Type-Options: nosniff\n",
    "X-Frame-Options: DENY\n",
    "X-XSS-Protection: 1; mode=block\n",
    "Vary: Accept-Encoding,Cookie\n",
    "Age: 7\n",
    "\n",
    "<!DOCTYPE html>\n",
    "<html lang=\"en\">\n",
    "<head>\n",
    "  <meta charset=\"utf-8\">\n",
    "  <title>A simple webpage</title>\n",
    "</head>\n",
    "<body>\n",
    "  <h1>Simple HTML webpage</h1>\n",
    "  <p>Hello, world!</p>\n",
    "</body>\n",
    "</html>\n",
    "```\n",
    "<hr style=\"border-top: 1px solid rgb(0, 91, 94);\" />\n"
   ]
  },
  {
   "cell_type": "markdown",
   "metadata": {},
   "source": [
    "<h2 style=\"color: rgb(0, 91, 94);\">Static Websites</h2>\n",
    "\n",
    "<hr style=\"border-top: 1px solid rgb(0, 91, 94);\" />\n",
    "\n",
    "- Static generally means the responses are fixed files.\n",
    "\n",
    "- They are not generated from database content.\n",
    "\n",
    "- The same request typically generates the same response."
   ]
  },
  {
   "cell_type": "markdown",
   "metadata": {},
   "source": [
    "<h2 style=\"color: rgb(0, 91, 94);\">Dynamic Websites</h2>\n",
    "\n",
    "<hr style=\"border-top: 1px solid rgb(0, 91, 94);\" />\n",
    "\n",
    "- Something happens between the server receiving the request and the response being sent.\n",
    "\n",
    "- Usually interaction with a database.\n",
    "\n",
    "- Implies the web server has some mechanism for running some form of code.\n",
    "\n",
    "- The same request at different times might generate a different response."
   ]
  },
  {
   "cell_type": "code",
   "execution_count": null,
   "metadata": {},
   "outputs": [],
   "source": []
  },
  {
   "cell_type": "markdown",
   "metadata": {},
   "source": [
    "<hr style=\"border-top: 1px solid rgb(0, 91, 94);\" />\n",
    "\n",
    "<h2 style=\"color: rgb(0, 91, 94);\">End</h2>"
   ]
  }
 ],
 "metadata": {
  "kernelspec": {
   "display_name": "Python 3 (ipykernel)",
   "language": "python",
   "name": "python3"
  },
  "language_info": {
   "codemirror_mode": {
    "name": "ipython",
    "version": 3
   },
   "file_extension": ".py",
   "mimetype": "text/x-python",
   "name": "python",
   "nbconvert_exporter": "python",
   "pygments_lexer": "ipython3",
   "version": "3.9.13"
  }
 },
 "nbformat": 4,
 "nbformat_minor": 4
}
